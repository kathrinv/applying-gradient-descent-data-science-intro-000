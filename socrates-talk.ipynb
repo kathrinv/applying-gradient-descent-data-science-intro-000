{
  "nbformat": 4,
  "nbformat_minor": 0,
  "metadata": {
    "colab": {
      "name": "Copy of socrates-talk.ipynb",
      "version": "0.3.2",
      "provenance": [],
      "collapsed_sections": [
        "bxYAmr7k9ayk",
        "dammVSmE9r65",
        "APons-ca9vf3",
        "NYX8HUwO-EDo",
        "dYSCGQK6-Q3n",
        "r42JlCcM-kKX",
        "WGQ_OXyU-8eo",
        "U_-XQwpw-_Z3",
        "M0ISkI99_NrG"
      ],
      "include_colab_link": true
    },
    "kernelspec": {
      "name": "python3",
      "display_name": "Python 3"
    }
  },
  "cells": [
    {
      "cell_type": "markdown",
      "metadata": {
        "id": "view-in-github",
        "colab_type": "text"
      },
      "source": [
        "<a href=\"https://colab.research.google.com/github/kathrinv/applying-gradient-descent-data-science-intro-000/blob/master/socrates-talk.ipynb\" target=\"_parent\"><img src=\"https://colab.research.google.com/assets/colab-badge.svg\" alt=\"Open In Colab\"/></a>"
      ]
    },
    {
      "cell_type": "markdown",
      "metadata": {
        "id": "IOxYLbRmwxPW",
        "colab_type": "text"
      },
      "source": [
        "# From Socrates to Siri\n",
        "Don't worry, you're in the right place! We are going to use modern data science tools and machine learning to look at virtues in the dialogue Crito. When we meet tomorrow, all our code will be uploaded here for us to walk through together.\n",
        "\n",
        "\n",
        "You don't have to have a background in coding, data science, or understand all of the code we write, just be curious!\n",
        "\n",
        "This is where we will be coding during the workshop. See you soon!\n",
        "\n",
        "To run the code click open in playground!"
      ]
    },
    {
      "cell_type": "code",
      "metadata": {
        "id": "BbhXYaGU9R-T",
        "colab_type": "code",
        "colab": {}
      },
      "source": [
        "# we are going to 'run' this cell to import the python libraries we will use\n",
        "from collections import Counter\n",
        "import matplotlib.pyplot as plt\n",
        "import pandas as pd\n",
        "import requests\n",
        "import re"
      ],
      "execution_count": 0,
      "outputs": []
    },
    {
      "cell_type": "markdown",
      "metadata": {
        "id": "bxYAmr7k9ayk",
        "colab_type": "text"
      },
      "source": [
        "#Now let's take a look at Crito\n",
        "We are starting with a small text (a single dialogue), but the same principles apply for large datasets."
      ]
    },
    {
      "cell_type": "code",
      "metadata": {
        "id": "m32irwtE9Xmf",
        "colab_type": "code",
        "colab": {}
      },
      "source": [
        "# code to get the text from project guntenburg, it's a great resource to check out!\n",
        "socrates = requests.get('http://www.gutenberg.org/cache/epub/1657/pg1657.txt').text[18864:-66]\n",
        "\n",
        "# let's take a look at what we have\n",
        "socrates"
      ],
      "execution_count": 0,
      "outputs": []
    },
    {
      "cell_type": "markdown",
      "metadata": {
        "id": "ZdXiSQr99nM8",
        "colab_type": "text"
      },
      "source": [
        "### Pretty messy!\n",
        "In order to make sense of it and draw insights we are goint to process the text."
      ]
    },
    {
      "cell_type": "markdown",
      "metadata": {
        "id": "dammVSmE9r65",
        "colab_type": "text"
      },
      "source": [
        "## Start in the 50's, using python to make rules!"
      ]
    },
    {
      "cell_type": "markdown",
      "metadata": {
        "id": "APons-ca9vf3",
        "colab_type": "text"
      },
      "source": [
        "### Let's take a couple sentences at first and talk about formal languages"
      ]
    },
    {
      "cell_type": "code",
      "metadata": {
        "id": "pqATDljp9oSi",
        "colab_type": "code",
        "colab": {}
      },
      "source": [
        "socrates_1 = 'Why have you come at this hour, Crito? it must be quite early.'\n",
        "crito_1 = 'Yes, certainly.'\n",
        "socrates_2 ='What is the exact time?'\n",
        "crito_2 = 'The dawn is breaking.'\n",
        "socrates_3 =' I wonder that the keeper of the prison would let you in.'"
      ],
      "execution_count": 0,
      "outputs": []
    },
    {
      "cell_type": "markdown",
      "metadata": {
        "id": "_jv3xxY-93eR",
        "colab_type": "text"
      },
      "source": [
        "Remember python is a formal language like math - meaning that it's just a set of operations that a computer can perform functions on. Why is this important?"
      ]
    },
    {
      "cell_type": "code",
      "metadata": {
        "id": "bnlGNszx932j",
        "colab_type": "code",
        "colab": {}
      },
      "source": [
        "# in python the string (aka letter) is not the same if it is lower case or capitalized\n",
        "\n",
        "# this is what the computer'equates' as true\n",
        "print('i' == 'i')"
      ],
      "execution_count": 0,
      "outputs": []
    },
    {
      "cell_type": "code",
      "metadata": {
        "id": "t2ToMM2v97QF",
        "colab_type": "code",
        "colab": {}
      },
      "source": [
        "# will this be false or true?\n",
        "print('i' == 'I')"
      ],
      "execution_count": 0,
      "outputs": []
    },
    {
      "cell_type": "code",
      "metadata": {
        "id": "dHfcvHhM98l9",
        "colab_type": "code",
        "colab": {}
      },
      "source": [
        "# will this be false or true?\n",
        "print('Yes, certainly.' == 'Yes, certainly!')"
      ],
      "execution_count": 0,
      "outputs": []
    },
    {
      "cell_type": "markdown",
      "metadata": {
        "id": "g6UN29xx-Au5",
        "colab_type": "text"
      },
      "source": [
        "With this in mind, let's go back to Crito."
      ]
    },
    {
      "cell_type": "markdown",
      "metadata": {
        "id": "NYX8HUwO-EDo",
        "colab_type": "text"
      },
      "source": [
        "### The next blocks of code are for 'cleaning' the text"
      ]
    },
    {
      "cell_type": "code",
      "metadata": {
        "id": "j4E-rH8x-BFp",
        "colab_type": "code",
        "colab": {}
      },
      "source": [
        "# this code block is getting our 'natural' words in a format we can use a 'formal' language with!\n",
        "\n",
        "def format_words():\n",
        "    return [x.replace(\"CRITO:\", \"CRITOtalking\").replace(\"SOCRATES:\", \"SOCRATEStalking\").lower() for x in socrates.split()]\n",
        "  \n",
        "def no_punctuation(dialogue):\n",
        "    cleaned_words = []\n",
        "    for word in dialogue:\n",
        "        s = re.sub(r'[^\\w]','',word) \n",
        "        cleaned_words.append(s)\n",
        "    return cleaned_words\n",
        "crito = no_punctuation(format_words()) "
      ],
      "execution_count": 0,
      "outputs": []
    },
    {
      "cell_type": "code",
      "metadata": {
        "id": "c8jMIesV-JBj",
        "colab_type": "code",
        "colab": {}
      },
      "source": [
        "# this code block is to get all of socrates and critos words separately\n",
        "\n",
        "# making the list into a string\n",
        "string =' '.join(crito)\n",
        "# sentences is a list of sentences of the dialogue as strings\n",
        "sentences = re.split(r'[a-z]+talking', string)[1:]  \n",
        "\n",
        "def get_crito_words():\n",
        "    list_words = []\n",
        "    for i in range(len(sentences)):\n",
        "        if i % 2 ==0:\n",
        "          pass\n",
        "        else:\n",
        "          list_words.append(sentences[i])\n",
        "    return list_words\n",
        "  \n",
        "def get_socrates_words():\n",
        "    s_list_words = []\n",
        "    for i in range(len(sentences)):\n",
        "      if i % 2==0:\n",
        "        s_list_words.append(sentences[i])\n",
        "    return s_list_words\n",
        "\n",
        "# socrates_sentences is just a list of socrates' sentences as strings\n",
        "socrates_sentences = get_socrates_words()\n",
        "# crito_sentences is just a list of crito's sentences as strings\n",
        "crito_sentences = get_crito_words()\n",
        "print('The first sentence of the dialogue is:', sentences[0])"
      ],
      "execution_count": 0,
      "outputs": []
    },
    {
      "cell_type": "markdown",
      "metadata": {
        "id": "dYSCGQK6-Q3n",
        "colab_type": "text"
      },
      "source": [
        "### What do you think the most common words are?\n",
        "\n",
        "Also, the most common words **meaningful** or **important** to the text?"
      ]
    },
    {
      "cell_type": "code",
      "metadata": {
        "id": "hI6Qgurh-RUj",
        "colab_type": "code",
        "colab": {}
      },
      "source": [
        "counts = Counter(crito)\n",
        "ordered_counts = sorted(counts.items(), key=lambda k: k[1], reverse = True)"
      ],
      "execution_count": 0,
      "outputs": []
    },
    {
      "cell_type": "code",
      "metadata": {
        "id": "sppghXHo-Twx",
        "colab_type": "code",
        "colab": {}
      },
      "source": [
        "#let's look at the ten more common words...\n",
        "df_most_common = pd.DataFrame(ordered_counts[:10], columns=['word', 'frequency'])\n",
        "df_most_common.plot(kind='bar', x='word', title='top 10 most common words')"
      ],
      "execution_count": 0,
      "outputs": []
    },
    {
      "cell_type": "markdown",
      "metadata": {
        "id": "xxCMgWSf-X0S",
        "colab_type": "text"
      },
      "source": [
        "Can you tell what this text is about?\n",
        "\n",
        "Let's look at the top 25 words!"
      ]
    },
    {
      "cell_type": "code",
      "metadata": {
        "id": "XjKQUDlv-Vt5",
        "colab_type": "code",
        "colab": {}
      },
      "source": [
        "more_words = pd.DataFrame(ordered_counts[:26], columns=['word', 'frequency'])\n",
        "more_words.plot(kind='bar', x='word', title='top 25 most common words')"
      ],
      "execution_count": 0,
      "outputs": []
    },
    {
      "cell_type": "markdown",
      "metadata": {
        "id": "XZNfflYr-dZr",
        "colab_type": "text"
      },
      "source": [
        "Still not very descriptive. These words (**and**, **the**, **of**) are called stop words in natural langauge processing.\n",
        "\n"
      ]
    },
    {
      "cell_type": "code",
      "metadata": {
        "id": "dM2J5L1f-dl_",
        "colab_type": "code",
        "colab": {}
      },
      "source": [
        "# take out stop words\n",
        "stop_words = [\"i\", \"me\", \"my\", \"myself\", \"we\", \"our\", \"ours\", \"ourselves\", \"you\", \"your\", \"yours\", \"yourself\", \"yourselves\", \"he\", \"him\", \"his\", \"himself\", \"she\", \"her\", \"hers\", \"herself\", \"it\", \"its\", \"itself\", \"they\", \"them\", \"their\", \"theirs\", \"themselves\", \"what\", \"which\", \"who\", \"whom\", \"this\", \"that\", \"these\", \"those\", \"am\", \"is\", \"are\", \"was\", \"were\", \"be\", \"been\", \"being\", \"have\", \"has\", \"had\", \"having\", \"do\", \"does\", \"did\", \"doing\", \"a\", \"an\", \"the\", \"and\", \"but\", \"if\", \"or\", \"because\", \"as\", \"until\", \"while\", \"of\", \"at\", \"by\", \"for\", \"with\", \"about\", \"against\", \"between\", \"into\", \"through\", \"during\", \"before\", \"after\", \"above\", \"below\", \"to\", \"from\", \"up\", \"down\", \"in\", \"out\", \"on\", \"off\", \"over\", \"under\", \"again\", \"further\", \"then\", \"once\", \"here\", \"there\", \"when\", \"where\", \"why\", \"how\", \"all\", \"any\", \"both\", \"each\", \"few\", \"more\", \"most\", \"other\", \"some\", \"such\", \"no\", \"nor\", \"not\", \"only\", \"own\", \"same\", \"so\", \"than\", \"too\", \"very\", \"s\", \"t\", \"can\", \"will\", \"just\", \"don\", \"should\", \"now\", \"like\", \" \", \"\"]\n",
        "\n",
        "# now remove these from the from our corpus\n",
        "remove_stop_words = []\n",
        "for i in range(len(ordered_counts)):\n",
        "    if ordered_counts[i][0] not in stop_words:\n",
        "      remove_stop_words.append((ordered_counts[i][0], ordered_counts[i][1]))"
      ],
      "execution_count": 0,
      "outputs": []
    },
    {
      "cell_type": "code",
      "metadata": {
        "id": "jHBP5ge--iGk",
        "colab_type": "code",
        "colab": {}
      },
      "source": [
        "# then graph the new dictionary of words!\n",
        "no_stop_words_graph = pd.DataFrame(remove_stop_words[:25], columns=['word', 'frequency'])\n",
        "no_stop_words_graph.plot(kind='bar', x='word', title='top 25 most common words')"
      ],
      "execution_count": 0,
      "outputs": []
    },
    {
      "cell_type": "markdown",
      "metadata": {
        "id": "r42JlCcM-kKX",
        "colab_type": "text"
      },
      "source": [
        "### Can we find a pattern in each speaker?"
      ]
    },
    {
      "cell_type": "code",
      "metadata": {
        "id": "3vDMvqBW-kYH",
        "colab_type": "code",
        "colab": {}
      },
      "source": [
        "# a function to get the word counts for each speaker\n",
        "def words_counts_by_speaker(speaker_sentences):\n",
        "  speaker_words_list = []\n",
        "  for i in range(len(speaker_sentences)):\n",
        "    speaker_words_list.append(speaker_sentences[i].split(' '))\n",
        "    speaker_words = [val for sublist in speaker_words_list for val in sublist]\n",
        "\n",
        "  # get word counts for crito\n",
        "  speaker_counts = Counter(speaker_words)\n",
        "  ordered_speaker_counts = sorted(speaker_counts.items(), key=lambda k: k[1], reverse = True)\n",
        "\n",
        "  # now remove these from the from our corpus for crito\n",
        "  remove_stop_words_speaker = []\n",
        "  for i in range(len(speaker_counts)):\n",
        "    if ordered_speaker_counts[i][0] not in stop_words:\n",
        "      remove_stop_words_speaker.append((ordered_speaker_counts[i][0], ordered_speaker_counts[i][1]))\n",
        "  return remove_stop_words_speaker"
      ],
      "execution_count": 0,
      "outputs": []
    },
    {
      "cell_type": "code",
      "metadata": {
        "id": "EPjEMndY-oHG",
        "colab_type": "code",
        "colab": {}
      },
      "source": [
        "no_stop_words_crito_graph = pd.DataFrame(words_counts_by_speaker(crito_sentences)[:25], columns=['word', 'frequency'])\n",
        "no_stop_words_crito_graph.plot(kind='bar', x='word', title='top 25 most common words for crito')"
      ],
      "execution_count": 0,
      "outputs": []
    },
    {
      "cell_type": "code",
      "metadata": {
        "id": "d5KPHlP9-rL6",
        "colab_type": "code",
        "colab": {}
      },
      "source": [
        "no_stop_words_socrates_graph = pd.DataFrame(words_counts_by_speaker(socrates_sentences)[:25], columns=['word', 'frequency'])\n",
        "no_stop_words_socrates_graph.plot(kind='bar', x='word', title='top 25 most common words for socrates')"
      ],
      "execution_count": 0,
      "outputs": []
    },
    {
      "cell_type": "code",
      "metadata": {
        "id": "N9bPMhUL-tTw",
        "colab_type": "code",
        "colab": {}
      },
      "source": [
        "print(\"crito's word count\", no_stop_words_crito_graph.frequency.sum())\n",
        "print(\"socrates' word count\", no_stop_words_socrates_graph.frequency.sum())\n",
        "# words_counts_by_speaker(crito_sentences)[:25]"
      ],
      "execution_count": 0,
      "outputs": []
    },
    {
      "cell_type": "markdown",
      "metadata": {
        "id": "d6Boeaf--zVo",
        "colab_type": "text"
      },
      "source": [
        "Did we take everything into consideration?"
      ]
    },
    {
      "cell_type": "markdown",
      "metadata": {
        "id": "WGQ_OXyU-8eo",
        "colab_type": "text"
      },
      "source": [
        "## Modern techinques - Looking at sentiment and summarization"
      ]
    },
    {
      "cell_type": "markdown",
      "metadata": {
        "id": "U_-XQwpw-_Z3",
        "colab_type": "text"
      },
      "source": [
        "### Sentiment with Textblob\n",
        "Textblob is a python library for natural language processing!"
      ]
    },
    {
      "cell_type": "code",
      "metadata": {
        "id": "oaGrDfjJ-0D_",
        "colab_type": "code",
        "colab": {}
      },
      "source": [
        "# we are using the nltk library and textblob\n",
        "import nltk\n",
        "nltk.download(\"popular\")\n",
        "from textblob import TextBlob"
      ],
      "execution_count": 0,
      "outputs": []
    },
    {
      "cell_type": "code",
      "metadata": {
        "id": "rMUbUbbV_EN2",
        "colab_type": "code",
        "colab": {}
      },
      "source": [
        "# let's test it out\n",
        "movie_sent = TextBlob(\"I would love to go to the movies!\")\n",
        "spoiler_sent = TextBlob(\"This is terrible!!\")\n",
        "movie_sent.sentiment"
      ],
      "execution_count": 0,
      "outputs": []
    },
    {
      "cell_type": "code",
      "metadata": {
        "id": "8OF48cuJ_H4O",
        "colab_type": "code",
        "colab": {}
      },
      "source": [
        "word_sent = TextBlob(\"I come to bring you a message which is sad and painful; not, as I believe, to yourself, but to all of us who are your friends, and saddest of all to me.\")\n",
        "word_sent.sentiment"
      ],
      "execution_count": 0,
      "outputs": []
    },
    {
      "cell_type": "markdown",
      "metadata": {
        "id": "-Vio1uTE_KUs",
        "colab_type": "text"
      },
      "source": [
        "While this is a very cool use case of natural language processing it is important to remember that the sentiment we get from a machine learning model can be biased. This is based on what text is used to *train* the model."
      ]
    },
    {
      "cell_type": "markdown",
      "metadata": {
        "id": "M0ISkI99_NrG",
        "colab_type": "text"
      },
      "source": [
        "### summarization"
      ]
    },
    {
      "cell_type": "code",
      "metadata": {
        "id": "jB-7K4cQ_KsS",
        "colab_type": "code",
        "colab": {}
      },
      "source": [
        "from gensim.summarization.summarizer import summarize"
      ],
      "execution_count": 0,
      "outputs": []
    },
    {
      "cell_type": "code",
      "metadata": {
        "id": "3ovIDLbX_TGl",
        "colab_type": "code",
        "colab": {}
      },
      "source": [
        "socrates_last = '''\n",
        "Then will they not say: ‘You, Socrates, are breaking the covenants and agreements which you made with us at your leisure, not in any haste or under any compulsion or deception, but after you have had seventy years to think of them, during which time you were at liberty to leave the city, if we were not to your mind, or if our covenants appeared to you to be unfair. You had your choice, and might have gone either to Lacedaemon or Crete, both which states are often praised by you for their good government, or to some other Hellenic or foreign state. Whereas you, above all other Athenians, seemed to be so fond of the state, or, in other words, of us, her laws (and who would care about a state which has no laws?), that you never stirred out of her; the halt, the blind, the maimed were not more stationary in her than you were. And now you run away and forsake your agreements. Not so, Socrates, if you will take our advice; do not make yourself ridiculous by escaping out of the city.\n",
        "\n",
        "‘For just consider, if you transgress and err in this sort of way, what good will you do either to yourself or to your friends? That your friends will be driven into exile and deprived of citizenship, or will lose their property, is tolerably certain; and you yourself, if you fly to one of the neighbouring cities, as, for example, Thebes or Megara, both of which are well governed, will come to them as an enemy, Socrates, and their government will be against you, and all patriotic citizens will cast an evil eye upon you as a subverter of the laws, and you will confirm in the minds of the judges the justice of their own condemnation of you. For he who is a corrupter of the laws is more than likely to be a corrupter of the young and foolish portion of mankind. Will you then flee from well-ordered cities and virtuous men? and is existence worth having on these terms? Or will you go to them without shame, and talk to them, Socrates? And what will you say to them? What you say here about virtue and justice and institutions and laws being the best things among men? Would that be decent of you? Surely not. But if you go away from well-governed states to Crito’s friends in Thessaly, where there is great disorder and licence, they will be charmed to hear the tale of your escape from prison, set off with ludicrous particulars of the manner in which you were wrapped in a goatskin or some other disguise, and metamorphosed as the manner is of runaways; but will there be no one to remind you that in your old age you were not ashamed to violate the most sacred laws from a miserable desire of a little more life? Perhaps not, if you keep them in a good temper; but if they are out of temper you will hear many degrading things; you will live, but how?—as the flatterer of all men, and the servant of all men; and doing what?—eating and drinking in Thessaly, having gone abroad in order that you may get a dinner. And where will be your fine sentiments about justice and virtue? Say that you wish to live for the sake of your children—you want to bring them up and educate them—will you take them into Thessaly and deprive them of Athenian citizenship? Is this the benefit which you will confer upon them? Or are you under the impression that they will be better cared for and educated here if you are still alive, although absent from them; for your friends will take care of them? Do you fancy that if you are an inhabitant of Thessaly they will take care of them, and if you are an inhabitant of the other world that they will not take care of them? Nay; but if they who call themselves friends are good for anything, they will—to be sure they will.\n",
        "\n",
        "‘Listen, then, Socrates, to us who have brought you up. Think not of life and children first, and of justice afterwards, but of justice first, that you may be justified before the princes of the world below. For neither will you nor any that belong to you be happier or holier or juster in this life, or happier in another, if you do as Crito bids. Now you depart in innocence, a sufferer and not a doer of evil; a victim, not of the laws, but of men. But if you go forth, returning evil for evil, and injury for injury, breaking the covenants and agreements which you have made with us, and wronging those whom you ought least of all to wrong, that is to say, yourself, your friends, your country, and us, we shall be angry with you while you live, and our brethren, the laws in the world below, will receive you as an enemy; for they will know that you have done your best to destroy us. Listen, then, to us and not to Crito.’\n",
        "\n",
        "This, dear Crito, is the voice which I seem to hear murmuring in my ears, like the sound of the flute in the ears of the mystic; that voice, I say, is humming in my ears, and prevents me from hearing any other. And I know that anything more which you may say will be vain. Yet speak, if you have anything to say.'''"
      ],
      "execution_count": 0,
      "outputs": []
    },
    {
      "cell_type": "code",
      "metadata": {
        "id": "RMO1Rcrq_Vyn",
        "colab_type": "code",
        "colab": {}
      },
      "source": [
        "summarize(socrates_last)"
      ],
      "execution_count": 0,
      "outputs": []
    },
    {
      "cell_type": "code",
      "metadata": {
        "id": "VmCiAVTE_YG6",
        "colab_type": "code",
        "colab": {}
      },
      "source": [
        "print( \"The length of our summary is\", len(summarize(socrates_last)), \"charaters\")\n",
        "print( \"The length of the original text is\", len(socrates_last), \"charaters\")"
      ],
      "execution_count": 0,
      "outputs": []
    },
    {
      "cell_type": "markdown",
      "metadata": {
        "id": "emPZ7tp4_cpF",
        "colab_type": "text"
      },
      "source": [
        "Let's summarize the whole text!"
      ]
    },
    {
      "cell_type": "code",
      "metadata": {
        "id": "ahd5GSxP_cMY",
        "colab_type": "code",
        "colab": {}
      },
      "source": [
        "summarize(socrates)"
      ],
      "execution_count": 0,
      "outputs": []
    },
    {
      "cell_type": "code",
      "metadata": {
        "id": "norppEd4_jDE",
        "colab_type": "code",
        "colab": {}
      },
      "source": [
        "print( \"The length of our summary is\", len(summarize(socrates)), \"charaters\")\n",
        "print( \"The length of the original text is\", len(socrates), \"charaters\")"
      ],
      "execution_count": 0,
      "outputs": []
    }
  ]
}